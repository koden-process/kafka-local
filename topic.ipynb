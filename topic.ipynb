{
 "cells": [
  {
   "metadata": {},
   "cell_type": "markdown",
   "source": "# Topic",
   "id": "9a924d4e7d9091b3"
  },
  {
   "cell_type": "code",
   "id": "42bee34ae8e1d5cf",
   "metadata": {
    "ExecuteTime": {
     "end_time": "2024-12-13T01:55:30.622670Z",
     "start_time": "2024-12-13T01:55:30.613438Z"
    }
   },
   "source": "from confluent_kafka.admin import AdminClient, NewTopic",
   "outputs": [],
   "execution_count": 1
  },
  {
   "metadata": {
    "ExecuteTime": {
     "end_time": "2024-12-13T01:55:31.468763Z",
     "start_time": "2024-12-13T01:55:31.466789Z"
    }
   },
   "cell_type": "code",
   "source": "BROKER = \"localhost:9092\"",
   "id": "cbbb49b02005a302",
   "outputs": [],
   "execution_count": 2
  },
  {
   "metadata": {
    "ExecuteTime": {
     "end_time": "2024-12-13T01:55:37.509021Z",
     "start_time": "2024-12-13T01:55:37.505403Z"
    }
   },
   "cell_type": "code",
   "source": [
    "def create_topic(topic_name, num_partitions=1, replication_factor=1):\n",
    "    admin_client = AdminClient({'bootstrap.servers': BROKER})\n",
    "\n",
    "    topic = NewTopic(topic_name, num_partitions = num_partitions, replication_factor = replication_factor)\n",
    "\n",
    "    fs = admin_client.create_topics([topic])\n",
    "\n",
    "    for topic, f in fs.items():\n",
    "        try:\n",
    "            f.result()\n",
    "            print(f\"Topic '{topic}' créé avec succès\")\n",
    "        except Exception as e:\n",
    "            print(f\"Erreur lors de la création du topic '{topic}': {e}\")"
   ],
   "id": "5d424420b8394f2",
   "outputs": [],
   "execution_count": 3
  },
  {
   "metadata": {
    "collapsed": true
   },
   "cell_type": "code",
   "outputs": [],
   "execution_count": null,
   "source": [
    "TOPIC_NAME = \"example-topic\"\n",
    "create_topic(TOPIC_NAME)"
   ],
   "id": "initial_id"
  }
 ],
 "metadata": {
  "kernelspec": {
   "display_name": "Python 3",
   "language": "python",
   "name": "python3"
  },
  "language_info": {
   "codemirror_mode": {
    "name": "ipython",
    "version": 2
   },
   "file_extension": ".py",
   "mimetype": "text/x-python",
   "name": "python",
   "nbconvert_exporter": "python",
   "pygments_lexer": "ipython2",
   "version": "2.7.6"
  }
 },
 "nbformat": 4,
 "nbformat_minor": 5
}
