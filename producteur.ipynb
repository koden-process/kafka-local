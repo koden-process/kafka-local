{
 "cells": [
  {
   "metadata": {},
   "cell_type": "markdown",
   "source": "# Producteur",
   "id": "2367b8265ac39014"
  },
  {
   "cell_type": "code",
   "id": "6d81262e7c7bb62e",
   "metadata": {
    "ExecuteTime": {
     "end_time": "2025-03-01T22:05:54.371092Z",
     "start_time": "2025-03-01T22:05:54.369082Z"
    }
   },
   "source": [
    "from confluent_kafka import Producer, KafkaException\n",
    "import time\n",
    "import uuid"
   ],
   "outputs": [],
   "execution_count": 5
  },
  {
   "metadata": {
    "ExecuteTime": {
     "end_time": "2025-03-01T22:05:58.964573Z",
     "start_time": "2025-03-01T22:05:58.962220Z"
    }
   },
   "cell_type": "code",
   "source": [
    "BROKER = \"kafka:9092\"\n",
    "TOPIC = \"example-topic\""
   ],
   "id": "ac3ea0a385a66a92",
   "outputs": [],
   "execution_count": 6
  },
  {
   "metadata": {
    "ExecuteTime": {
     "end_time": "2025-03-01T22:06:11.573803Z",
     "start_time": "2025-03-01T22:06:11.571289Z"
    }
   },
   "cell_type": "code",
   "source": [
    "def create_producer():\n",
    "    return Producer({\n",
    "        'bootstrap.servers': BROKER,\n",
    "    })"
   ],
   "id": "d271a905971f69a4",
   "outputs": [],
   "execution_count": 9
  },
  {
   "metadata": {
    "collapsed": true,
    "ExecuteTime": {
     "end_time": "2025-03-01T22:06:01.541624Z",
     "start_time": "2025-03-01T22:06:01.538332Z"
    }
   },
   "cell_type": "code",
   "source": [
    "def produce_messages():\n",
    "    producer = create_producer()\n",
    "    for i in range(10):\n",
    "        message = f\"Message {i}\"\n",
    "        try:\n",
    "            producer.produce(TOPIC, message)\n",
    "            print(f\"Message envoyé : {message}\")\n",
    "        except KafkaException as e:\n",
    "            print(f\"Erreur d'envoi : {e}\")\n",
    "        producer.flush()\n",
    "        time.sleep(1)"
   ],
   "id": "initial_id",
   "outputs": [],
   "execution_count": 7
  },
  {
   "metadata": {
    "ExecuteTime": {
     "end_time": "2025-03-01T22:11:14.784256Z",
     "start_time": "2025-03-01T22:06:13.787028Z"
    }
   },
   "cell_type": "code",
   "source": "produce_messages()",
   "id": "82c0cb506545f72a",
   "outputs": [
    {
     "name": "stdout",
     "output_type": "stream",
     "text": [
      "Message envoyé : Message 0\n"
     ]
    },
    {
     "name": "stderr",
     "output_type": "stream",
     "text": [
      "%3|1740866773.801|FAIL|rdkafka#producer-1| [thrd:kafka:9092/bootstrap]: kafka:9092/bootstrap: Failed to resolve 'kafka:9092': nodename nor servname provided, or not known (after 3ms in state CONNECT)\n",
      "%3|1740866775.802|FAIL|rdkafka#producer-1| [thrd:kafka:9092/bootstrap]: kafka:9092/bootstrap: Failed to resolve 'kafka:9092': nodename nor servname provided, or not known (after 2ms in state CONNECT, 1 identical error(s) suppressed)\n",
      "%3|1740866806.910|FAIL|rdkafka#producer-1| [thrd:kafka:9092/bootstrap]: kafka:9092/bootstrap: Failed to resolve 'kafka:9092': nodename nor servname provided, or not known (after 2ms in state CONNECT, 16 identical error(s) suppressed)\n",
      "%3|1740866837.006|FAIL|rdkafka#producer-1| [thrd:kafka:9092/bootstrap]: kafka:9092/bootstrap: Failed to resolve 'kafka:9092': nodename nor servname provided, or not known (after 2ms in state CONNECT, 17 identical error(s) suppressed)\n",
      "%3|1740866868.110|FAIL|rdkafka#producer-1| [thrd:kafka:9092/bootstrap]: kafka:9092/bootstrap: Failed to resolve 'kafka:9092': nodename nor servname provided, or not known (after 3ms in state CONNECT, 17 identical error(s) suppressed)\n",
      "%3|1740866899.216|FAIL|rdkafka#producer-1| [thrd:kafka:9092/bootstrap]: kafka:9092/bootstrap: Failed to resolve 'kafka:9092': nodename nor servname provided, or not known (after 3ms in state CONNECT, 17 identical error(s) suppressed)\n",
      "%3|1740866930.321|FAIL|rdkafka#producer-1| [thrd:kafka:9092/bootstrap]: kafka:9092/bootstrap: Failed to resolve 'kafka:9092': nodename nor servname provided, or not known (after 2ms in state CONNECT, 17 identical error(s) suppressed)\n",
      "%3|1740866960.396|FAIL|rdkafka#producer-1| [thrd:kafka:9092/bootstrap]: kafka:9092/bootstrap: Failed to resolve 'kafka:9092': nodename nor servname provided, or not known (after 3ms in state CONNECT, 15 identical error(s) suppressed)\n",
      "%3|1740866990.486|FAIL|rdkafka#producer-1| [thrd:kafka:9092/bootstrap]: kafka:9092/bootstrap: Failed to resolve 'kafka:9092': nodename nor servname provided, or not known (after 3ms in state CONNECT, 18 identical error(s) suppressed)\n",
      "%3|1740867020.586|FAIL|rdkafka#producer-1| [thrd:kafka:9092/bootstrap]: kafka:9092/bootstrap: Failed to resolve 'kafka:9092': nodename nor servname provided, or not known (after 2ms in state CONNECT, 18 identical error(s) suppressed)\n",
      "%3|1740867050.684|FAIL|rdkafka#producer-1| [thrd:kafka:9092/bootstrap]: kafka:9092/bootstrap: Failed to resolve 'kafka:9092': nodename nor servname provided, or not known (after 3ms in state CONNECT, 16 identical error(s) suppressed)\n"
     ]
    },
    {
     "ename": "KeyboardInterrupt",
     "evalue": "",
     "output_type": "error",
     "traceback": [
      "\u001B[0;31m---------------------------------------------------------------------------\u001B[0m",
      "\u001B[0;31mKeyboardInterrupt\u001B[0m                         Traceback (most recent call last)",
      "Cell \u001B[0;32mIn[10], line 1\u001B[0m\n\u001B[0;32m----> 1\u001B[0m \u001B[43mproduce_messages\u001B[49m\u001B[43m(\u001B[49m\u001B[43m)\u001B[49m\n",
      "Cell \u001B[0;32mIn[7], line 10\u001B[0m, in \u001B[0;36mproduce_messages\u001B[0;34m()\u001B[0m\n\u001B[1;32m      8\u001B[0m \u001B[38;5;28;01mexcept\u001B[39;00m KafkaException \u001B[38;5;28;01mas\u001B[39;00m e:\n\u001B[1;32m      9\u001B[0m     \u001B[38;5;28mprint\u001B[39m(\u001B[38;5;124mf\u001B[39m\u001B[38;5;124m\"\u001B[39m\u001B[38;5;124mErreur d\u001B[39m\u001B[38;5;124m'\u001B[39m\u001B[38;5;124menvoi : \u001B[39m\u001B[38;5;132;01m{\u001B[39;00me\u001B[38;5;132;01m}\u001B[39;00m\u001B[38;5;124m\"\u001B[39m)\n\u001B[0;32m---> 10\u001B[0m \u001B[43mproducer\u001B[49m\u001B[38;5;241;43m.\u001B[39;49m\u001B[43mflush\u001B[49m\u001B[43m(\u001B[49m\u001B[43m)\u001B[49m\n\u001B[1;32m     11\u001B[0m time\u001B[38;5;241m.\u001B[39msleep(\u001B[38;5;241m1\u001B[39m)\n",
      "\u001B[0;31mKeyboardInterrupt\u001B[0m: "
     ]
    }
   ],
   "execution_count": 10
  },
  {
   "metadata": {
    "ExecuteTime": {
     "end_time": "2025-03-01T22:11:18.694086Z",
     "start_time": "2025-03-01T22:11:18.691840Z"
    }
   },
   "cell_type": "code",
   "source": [
    "def send_message(message):\n",
    "    producer = create_producer()\n",
    "    try:\n",
    "        producer.produce(TOPIC, message)\n",
    "    except KafkaException as e:\n",
    "        print(f\"Erreur d'envoi : {e}\")\n",
    "    finally:\n",
    "        producer.flush()"
   ],
   "id": "6cbebc3583f9310a",
   "outputs": [],
   "execution_count": 11
  },
  {
   "metadata": {
    "jupyter": {
     "is_executing": true
    },
    "ExecuteTime": {
     "start_time": "2025-03-01T22:11:20.524950Z"
    }
   },
   "cell_type": "code",
   "source": "send_message('hello tete')",
   "id": "7bcf618867d9274",
   "outputs": [
    {
     "name": "stderr",
     "output_type": "stream",
     "text": [
      "%3|1740867080.528|FAIL|rdkafka#producer-2| [thrd:kafka:9092/bootstrap]: kafka:9092/bootstrap: Failed to resolve 'kafka:9092': nodename nor servname provided, or not known (after 2ms in state CONNECT)\n",
      "%3|1740867080.793|FAIL|rdkafka#producer-1| [thrd:kafka:9092/bootstrap]: kafka:9092/bootstrap: Failed to resolve 'kafka:9092': nodename nor servname provided, or not known (after 2ms in state CONNECT, 16 identical error(s) suppressed)\n",
      "%3|1740867082.536|FAIL|rdkafka#producer-2| [thrd:kafka:9092/bootstrap]: kafka:9092/bootstrap: Failed to resolve 'kafka:9092': nodename nor servname provided, or not known (after 3ms in state CONNECT, 1 identical error(s) suppressed)\n",
      "%3|1740867110.894|FAIL|rdkafka#producer-1| [thrd:kafka:9092/bootstrap]: kafka:9092/bootstrap: Failed to resolve 'kafka:9092': nodename nor servname provided, or not known (after 3ms in state CONNECT, 17 identical error(s) suppressed)\n"
     ]
    }
   ],
   "execution_count": null
  }
 ],
 "metadata": {
  "kernelspec": {
   "display_name": "Python 3",
   "language": "python",
   "name": "python3"
  },
  "language_info": {
   "codemirror_mode": {
    "name": "ipython",
    "version": 2
   },
   "file_extension": ".py",
   "mimetype": "text/x-python",
   "name": "python",
   "nbconvert_exporter": "python",
   "pygments_lexer": "ipython2",
   "version": "2.7.6"
  }
 },
 "nbformat": 4,
 "nbformat_minor": 5
}
