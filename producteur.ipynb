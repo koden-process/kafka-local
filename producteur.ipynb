{
 "cells": [
  {
   "metadata": {},
   "cell_type": "markdown",
   "source": "# Producteur",
   "id": "2367b8265ac39014"
  },
  {
   "cell_type": "code",
   "id": "6d81262e7c7bb62e",
   "metadata": {
    "ExecuteTime": {
     "end_time": "2024-12-13T02:09:50.927644Z",
     "start_time": "2024-12-13T02:09:50.925060Z"
    }
   },
   "source": [
    "from confluent_kafka import Producer, KafkaException\n",
    "import time\n",
    "import uuid"
   ],
   "outputs": [],
   "execution_count": 8
  },
  {
   "metadata": {
    "ExecuteTime": {
     "end_time": "2024-12-13T02:23:34.433555Z",
     "start_time": "2024-12-13T02:23:34.431564Z"
    }
   },
   "cell_type": "code",
   "source": [
    "BROKER = \"localhost:9092\"\n",
    "TOPIC = \"example-topic\""
   ],
   "id": "ac3ea0a385a66a92",
   "outputs": [],
   "execution_count": 16
  },
  {
   "metadata": {
    "ExecuteTime": {
     "end_time": "2024-12-13T02:09:53.318065Z",
     "start_time": "2024-12-13T02:09:53.315835Z"
    }
   },
   "cell_type": "code",
   "source": [
    "def create_producer():\n",
    "    return Producer({\n",
    "        'bootstrap.servers': BROKER,\n",
    "    })"
   ],
   "id": "d271a905971f69a4",
   "outputs": [],
   "execution_count": 10
  },
  {
   "metadata": {
    "collapsed": true,
    "ExecuteTime": {
     "end_time": "2024-12-13T02:09:54.675153Z",
     "start_time": "2024-12-13T02:09:54.672121Z"
    }
   },
   "cell_type": "code",
   "source": [
    "def produce_messages():\n",
    "    producer = create_producer()\n",
    "    for i in range(10):\n",
    "        message = f\"Message {i}\"\n",
    "        try:\n",
    "            producer.produce(TOPIC, message)\n",
    "            print(f\"Message envoyé : {message}\")\n",
    "        except KafkaException as e:\n",
    "            print(f\"Erreur d'envoi : {e}\")\n",
    "        producer.flush()\n",
    "        time.sleep(1)"
   ],
   "id": "initial_id",
   "outputs": [],
   "execution_count": 11
  },
  {
   "metadata": {
    "ExecuteTime": {
     "end_time": "2024-12-13T01:50:53.373065Z",
     "start_time": "2024-12-13T01:50:43.268497Z"
    }
   },
   "cell_type": "code",
   "source": "produce_messages()",
   "id": "82c0cb506545f72a",
   "outputs": [
    {
     "name": "stdout",
     "output_type": "stream",
     "text": [
      "Message envoyé : Message 0\n",
      "Message envoyé : Message 1\n",
      "Message envoyé : Message 2\n",
      "Message envoyé : Message 3\n",
      "Message envoyé : Message 4\n",
      "Message envoyé : Message 5\n",
      "Message envoyé : Message 6\n",
      "Message envoyé : Message 7\n",
      "Message envoyé : Message 8\n",
      "Message envoyé : Message 9\n"
     ]
    }
   ],
   "execution_count": 6
  },
  {
   "metadata": {
    "ExecuteTime": {
     "end_time": "2024-12-13T02:23:47.243122Z",
     "start_time": "2024-12-13T02:23:47.239775Z"
    }
   },
   "cell_type": "code",
   "source": [
    "def send_message(message):\n",
    "    producer = create_producer()\n",
    "    try:\n",
    "        producer.produce(TOPIC, message)\n",
    "    except KafkaException as e:\n",
    "        print(f\"Erreur d'envoi : {e}\")\n",
    "    finally:\n",
    "        producer.flush()"
   ],
   "id": "6cbebc3583f9310a",
   "outputs": [],
   "execution_count": 17
  },
  {
   "metadata": {
    "ExecuteTime": {
     "end_time": "2024-12-13T02:31:32.521350Z",
     "start_time": "2024-12-13T02:31:32.512072Z"
    }
   },
   "cell_type": "code",
   "source": "send_message('hello tete')",
   "id": "7bcf618867d9274",
   "outputs": [],
   "execution_count": 27
  }
 ],
 "metadata": {
  "kernelspec": {
   "display_name": "Python 3",
   "language": "python",
   "name": "python3"
  },
  "language_info": {
   "codemirror_mode": {
    "name": "ipython",
    "version": 2
   },
   "file_extension": ".py",
   "mimetype": "text/x-python",
   "name": "python",
   "nbconvert_exporter": "python",
   "pygments_lexer": "ipython2",
   "version": "2.7.6"
  }
 },
 "nbformat": 4,
 "nbformat_minor": 5
}
