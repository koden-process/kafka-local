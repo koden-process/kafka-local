{
 "cells": [
  {
   "metadata": {},
   "cell_type": "markdown",
   "source": "# Producteur",
   "id": "2367b8265ac39014"
  },
  {
   "cell_type": "code",
   "id": "6d81262e7c7bb62e",
   "metadata": {
    "ExecuteTime": {
     "end_time": "2024-12-13T02:14:26.798232Z",
     "start_time": "2024-12-13T02:14:26.795642Z"
    }
   },
   "source": "from confluent_kafka import Consumer, KafkaException",
   "outputs": [],
   "execution_count": 9
  },
  {
   "metadata": {
    "ExecuteTime": {
     "end_time": "2024-12-13T02:14:28.167665Z",
     "start_time": "2024-12-13T02:14:28.164761Z"
    }
   },
   "cell_type": "code",
   "source": [
    "BROKER = \"localhost:9092\"\n",
    "TOPIC = \"example-topic\""
   ],
   "id": "ac3ea0a385a66a92",
   "outputs": [],
   "execution_count": 10
  },
  {
   "metadata": {
    "ExecuteTime": {
     "end_time": "2024-12-13T02:18:12.056842Z",
     "start_time": "2024-12-13T02:18:12.053743Z"
    }
   },
   "cell_type": "code",
   "source": [
    "def create_consumer():\n",
    "    return Consumer({\n",
    "        'bootstrap.servers': BROKER,\n",
    "        'group.id': 'python-consumer-group',\n",
    "        'client.id': 'my-consumer-instance-1',\n",
    "        'auto.offset.reset': 'earliest',\n",
    "    })"
   ],
   "id": "4a45a2976c4a4eb4",
   "outputs": [],
   "execution_count": 13
  },
  {
   "metadata": {
    "collapsed": true,
    "ExecuteTime": {
     "end_time": "2024-12-13T02:24:16.920698Z",
     "start_time": "2024-12-13T02:24:16.916971Z"
    }
   },
   "cell_type": "code",
   "source": [
    "def consume_messages():\n",
    "    consumer = create_consumer()\n",
    "    consumer.subscribe([TOPIC])\n",
    "    try:\n",
    "        print(\"En attente des messages...\")\n",
    "        while True:\n",
    "            msg = consumer.poll(1.0)\n",
    "            if msg is None:\n",
    "                continue\n",
    "            if msg.error():\n",
    "                print(f\"Erreur Kafka : {msg.error()}\")\n",
    "                continue\n",
    "            print(f\"Message reçu : {msg.value().decode('utf-8')}\")\n",
    "    except KeyboardInterrupt:\n",
    "        print(\"Interruption par l'utilisateur\")\n",
    "    finally:\n",
    "        consumer.close()"
   ],
   "id": "initial_id",
   "outputs": [],
   "execution_count": 19
  },
  {
   "metadata": {
    "ExecuteTime": {
     "end_time": "2024-12-13T02:28:18.542096Z",
     "start_time": "2024-12-13T02:28:04.468088Z"
    }
   },
   "cell_type": "code",
   "source": "consume_messages()",
   "id": "7b03d392854634f9",
   "outputs": [
    {
     "name": "stdout",
     "output_type": "stream",
     "text": [
      "En attente des messages...\n",
      "Message reçu : hello world 2\n",
      "Message reçu : hello world 3\n",
      "Message reçu : hello world 4\n",
      "Interruption par l'utilisateur\n"
     ]
    }
   ],
   "execution_count": 27
  },
  {
   "metadata": {
    "ExecuteTime": {
     "end_time": "2024-12-13T02:30:54.862684Z",
     "start_time": "2024-12-13T02:30:54.859013Z"
    }
   },
   "cell_type": "code",
   "source": [
    "def consume_message():\n",
    "    consumer = create_consumer()\n",
    "    consumer.subscribe([TOPIC])\n",
    "    try:\n",
    "        msg = consumer.poll(timeout=10.0)\n",
    "        if msg is None:\n",
    "            print(\"Aucun message reçu dans le délai imparti.\")\n",
    "        elif msg.error():\n",
    "            print(f\"Erreur : {msg.error()}\")\n",
    "        else:\n",
    "            print(f\"Message reçu : {msg.value().decode('utf-8')}\")\n",
    "    finally:\n",
    "        consumer.close()\n"
   ],
   "id": "2ea313d558c7585c",
   "outputs": [],
   "execution_count": 28
  },
  {
   "metadata": {
    "ExecuteTime": {
     "end_time": "2024-12-13T02:31:46.587037Z",
     "start_time": "2024-12-13T02:31:43.547885Z"
    }
   },
   "cell_type": "code",
   "source": "consume_message()",
   "id": "52c74baf9e97130c",
   "outputs": [
    {
     "name": "stdout",
     "output_type": "stream",
     "text": [
      "Message reçu : hello titi\n"
     ]
    }
   ],
   "execution_count": 31
  }
 ],
 "metadata": {
  "kernelspec": {
   "display_name": "Python 3",
   "language": "python",
   "name": "python3"
  },
  "language_info": {
   "codemirror_mode": {
    "name": "ipython",
    "version": 2
   },
   "file_extension": ".py",
   "mimetype": "text/x-python",
   "name": "python",
   "nbconvert_exporter": "python",
   "pygments_lexer": "ipython2",
   "version": "2.7.6"
  }
 },
 "nbformat": 4,
 "nbformat_minor": 5
}
