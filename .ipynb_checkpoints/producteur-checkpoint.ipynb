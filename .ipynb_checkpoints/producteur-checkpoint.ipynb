{
 "cells": [
  {
   "metadata": {},
   "cell_type": "markdown",
   "source": "# Producteur",
   "id": "2367b8265ac39014"
  },
  {
   "cell_type": "code",
   "id": "6d81262e7c7bb62e",
   "metadata": {
    "ExecuteTime": {
     "end_time": "2025-03-01T22:04:50.017880Z",
     "start_time": "2025-03-01T22:04:50.010055Z"
    }
   },
   "source": [
    "from confluent_kafka import Producer, KafkaException\n",
    "import time\n",
    "import uuid"
   ],
   "outputs": [],
   "execution_count": 1
  },
  {
   "metadata": {
    "ExecuteTime": {
     "end_time": "2025-03-01T22:02:38.072152Z",
     "start_time": "2025-03-01T22:02:38.070017Z"
    }
   },
   "cell_type": "code",
   "source": [
    "BROKER = \"kafka:9092\"\n",
    "TOPIC = \"example-topic\""
   ],
   "id": "ac3ea0a385a66a92",
   "outputs": [],
   "execution_count": 7
  },
  {
   "metadata": {
    "ExecuteTime": {
     "end_time": "2024-12-13T02:09:53.318065Z",
     "start_time": "2024-12-13T02:09:53.315835Z"
    }
   },
   "cell_type": "code",
   "source": [
    "def create_producer():\n",
    "    return Producer({\n",
    "        'bootstrap.servers': BROKER,\n",
    "    })"
   ],
   "id": "d271a905971f69a4",
   "outputs": [],
   "execution_count": 10
  },
  {
   "metadata": {
    "collapsed": true,
    "ExecuteTime": {
     "end_time": "2025-03-01T22:02:46.611563Z",
     "start_time": "2025-03-01T22:02:46.608247Z"
    }
   },
   "cell_type": "code",
   "source": [
    "def produce_messages():\n",
    "    producer = create_producer()\n",
    "    for i in range(10):\n",
    "        message = f\"Message {i}\"\n",
    "        try:\n",
    "            producer.produce(TOPIC, message)\n",
    "            print(f\"Message envoyé : {message}\")\n",
    "        except KafkaException as e:\n",
    "            print(f\"Erreur d'envoi : {e}\")\n",
    "        producer.flush()\n",
    "        time.sleep(1)"
   ],
   "id": "initial_id",
   "outputs": [],
   "execution_count": 8
  },
  {
   "metadata": {
    "jupyter": {
     "is_executing": true
    },
    "ExecuteTime": {
     "start_time": "2025-03-01T22:02:54.137756Z"
    }
   },
   "cell_type": "code",
   "source": "produce_messages()",
   "id": "82c0cb506545f72a",
   "outputs": [
    {
     "name": "stdout",
     "output_type": "stream",
     "text": [
      "Message envoyé : Message 0\n"
     ]
    },
    {
     "name": "stderr",
     "output_type": "stream",
     "text": [
      "%3|1740866574.186|FAIL|rdkafka#producer-2| [thrd:kafka:9092/1]: kafka:9092/1: Failed to resolve 'kafka:9092': nodename nor servname provided, or not known (after 41ms in state CONNECT)\n",
      "%3|1740866575.189|FAIL|rdkafka#producer-2| [thrd:kafka:9092/1]: kafka:9092/1: Failed to resolve 'kafka:9092': nodename nor servname provided, or not known (after 3ms in state CONNECT, 1 identical error(s) suppressed)\n"
     ]
    }
   ],
   "execution_count": null
  },
  {
   "metadata": {
    "ExecuteTime": {
     "end_time": "2024-12-13T02:23:47.243122Z",
     "start_time": "2024-12-13T02:23:47.239775Z"
    }
   },
   "cell_type": "code",
   "source": [
    "def send_message(message):\n",
    "    producer = create_producer()\n",
    "    try:\n",
    "        producer.produce(TOPIC, message)\n",
    "    except KafkaException as e:\n",
    "        print(f\"Erreur d'envoi : {e}\")\n",
    "    finally:\n",
    "        producer.flush()"
   ],
   "id": "6cbebc3583f9310a",
   "outputs": [],
   "execution_count": 17
  },
  {
   "metadata": {
    "ExecuteTime": {
     "end_time": "2024-12-13T02:31:32.521350Z",
     "start_time": "2024-12-13T02:31:32.512072Z"
    }
   },
   "cell_type": "code",
   "source": "send_message('hello tete')",
   "id": "7bcf618867d9274",
   "outputs": [],
   "execution_count": 27
  }
 ],
 "metadata": {
  "kernelspec": {
   "display_name": "Python 3",
   "language": "python",
   "name": "python3"
  },
  "language_info": {
   "codemirror_mode": {
    "name": "ipython",
    "version": 2
   },
   "file_extension": ".py",
   "mimetype": "text/x-python",
   "name": "python",
   "nbconvert_exporter": "python",
   "pygments_lexer": "ipython2",
   "version": "2.7.6"
  }
 },
 "nbformat": 4,
 "nbformat_minor": 5
}
